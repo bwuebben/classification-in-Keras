{
 "cells": [
  {
   "cell_type": "code",
   "execution_count": 1,
   "metadata": {},
   "outputs": [
    {
     "name": "stderr",
     "output_type": "stream",
     "text": [
      "Using TensorFlow backend.\n"
     ]
    }
   ],
   "source": [
    "import numpy as np\n",
    "import pandas as pd\n",
    "\n",
    "import sklearn\n",
    "from sklearn.model_selection import train_test_split\n",
    "from sklearn.model_selection import StratifiedKFold\n",
    "from sklearn.model_selection import cross_val_score\n",
    "from sklearn.model_selection import GridSearchCV\n",
    "from sklearn.utils import class_weight\n",
    "from sklearn.preprocessing import scale\n",
    "\n",
    "from pprint import pprint\n",
    "import time\n",
    "\n",
    "from keras.models import Sequential\n",
    "from keras.layers import Dense, Dropout\n",
    "from keras import regularizers\n",
    "from keras.optimizers import Adam\n",
    "from keras.wrappers.scikit_learn import KerasClassifier\n",
    "\n",
    "#use a fixed seed for reproducibility\n",
    "#seed = np.random.randint(10000, size=1)[0]\n",
    "#print(seed)\n",
    "seed = 6016\n",
    "np.random.seed(seed)\n"
   ]
  },
  {
   "cell_type": "code",
   "execution_count": null,
   "metadata": {
    "collapsed": true
   },
   "outputs": [],
   "source": [
    "############################################################\n",
    "# 1. load data\n",
    "############################################################\n",
    "\n",
    "# load dataset\n",
    "print(\"Loading data...\")\n",
    "dataframe = pd.read_csv(\"join.txt\", header=None)\n",
    "print(\"Loaded...\")\n",
    "dataset = dataframe.values\n",
    "del dataframe # this thing is very large\n",
    "\n",
    "num_obs, num_features = dataset.shape\n",
    "num_features -=1\n",
    "num_labels=1\n",
    "print(\"Observations: %d\\nFeatures: %d\" % (num_obs, num_features))\n",
    "\n",
    "# last column is target \n",
    "y=dataset[:,num_features].astype(float)\n",
    "print(\"Histogram: check all 0s and 1s, no -1s etc.\")\n",
    "pprint(np.histogram(y))\n",
    "\n",
    "# omit 1st id column\n",
    "X = dataset[:,1:num_features].astype(float)\n",
    "del dataset"
   ]
  },
  {
   "cell_type": "code",
   "execution_count": 17,
   "metadata": {},
   "outputs": [
    {
     "data": {
      "text/plain": [
       "2122"
      ]
     },
     "execution_count": 17,
     "metadata": {},
     "output_type": "execute_result"
    }
   ],
   "source": [
    "num_features"
   ]
  },
  {
   "cell_type": "code",
   "execution_count": 6,
   "metadata": {},
   "outputs": [
    {
     "name": "stdout",
     "output_type": "stream",
     "text": [
      "Split into training, temp\n",
      "Split into xval, test\n",
      "Training set\n",
      "(380459, 2122)\n",
      "(array([370423,      0,      0,      0,      0,      0,      0,      0,\n",
      "            0,  10036]),\n",
      " array([ 0. ,  0.1,  0.2,  0.3,  0.4,  0.5,  0.6,  0.7,  0.8,  0.9,  1. ]))\n",
      "Xval set\n",
      "(126820, 2122)\n",
      "(array([123479,      0,      0,      0,      0,      0,      0,      0,\n",
      "            0,   3341]),\n",
      " array([ 0. ,  0.1,  0.2,  0.3,  0.4,  0.5,  0.6,  0.7,  0.8,  0.9,  1. ]))\n",
      "Test set\n",
      "(126820, 2122)\n",
      "(array([123485,      0,      0,      0,      0,      0,      0,      0,\n",
      "            0,   3335]),\n",
      " array([ 0. ,  0.1,  0.2,  0.3,  0.4,  0.5,  0.6,  0.7,  0.8,  0.9,  1. ]))\n"
     ]
    }
   ],
   "source": [
    "X = scale(X)\n",
    "\n",
    "print(\"Split into training, temp\")\n",
    "num_features -=1\n",
    "# split into training, xval, test, 60/20/20\n",
    "X_train, X_temp, y_train, y_temp = train_test_split(X, y, test_size=0.4)\n",
    "print(\"Split into xval, test\")\n",
    "X_xval, X_test, y_xval, y_test = train_test_split(X_temp, y_temp, test_size=0.5)\n",
    "del X\n",
    "del X_temp\n",
    "del y_temp\n",
    "\n",
    "print \"Training set\"\n",
    "print X_train.shape\n",
    "pprint(np.histogram(y_train))\n",
    "\n",
    "print \"Xval set\"\n",
    "print X_xval.shape\n",
    "pprint(np.histogram(y_xval))\n",
    "\n",
    "print \"Test set\"\n",
    "print X_test.shape\n",
    "pprint(np.histogram(y_test))"
   ]
  },
  {
   "cell_type": "code",
   "execution_count": 7,
   "metadata": {},
   "outputs": [
    {
     "name": "stdout",
     "output_type": "stream",
     "text": [
      "[  0.75   1.41   1.74   2.05   2.31   2.53   2.72   2.91   3.09   3.27\n",
      "   3.43   3.58   3.72   3.85   3.98   4.11   4.24   4.36   4.48   4.6\n",
      "   4.72   4.83   4.94   5.05   5.16   5.27   5.37   5.47   5.57   5.67\n",
      "   5.77   5.87   5.97   6.07   6.17   6.26   6.35   6.44   6.53   6.62\n",
      "   6.71   6.8    6.89   6.98   7.07   7.16   7.25   7.34   7.43   7.52\n",
      "   7.61   7.69   7.77   7.85   7.93   8.01   8.09   8.17   8.25   8.33\n",
      "   8.41   8.49   8.57   8.65   8.73   8.81   8.89   8.97   9.05   9.13\n",
      "   9.21   9.29   9.37   9.45   9.53   9.61   9.69   9.77   9.85   9.93\n",
      "  10.01  10.09  10.17  10.24  10.31  10.38  10.45  10.52  10.59  10.66\n",
      "  10.73  10.8   10.87  10.94  11.01  11.08  11.15  11.22  11.29  11.36]\n"
     ]
    },
    {
     "data": {
      "text/plain": [
       "[<matplotlib.lines.Line2D at 0x7fadbf633e90>]"
      ]
     },
     "execution_count": 7,
     "metadata": {},
     "output_type": "execute_result"
    },
    {
     "data": {
      "image/png": "[encoded data removed]",
      "text/plain": [
       "<matplotlib.figure.Figure at 0x7fadab86e550>"
      ]
     },
     "metadata": {},
     "output_type": "display_data"
    }
   ],
   "source": [
    "#scree chart to see how much variation is explained by how many predictors\n",
    "from sklearn.decomposition import PCA\n",
    "import matplotlib.pyplot as plt\n",
    "\n",
    "pca = PCA(n_components=num_features)\n",
    "pca.fit(X_train)\n",
    "\n",
    "#The amount of variance that each PC explains\n",
    "var= pca.explained_variance_ratio_\n",
    "\n",
    "#Cumulative Variance explains\n",
    "var1=np.cumsum(np.round(pca.explained_variance_ratio_, decimals=4)*100)\n",
    "print(var1[:100])\n",
    "\n",
    "#print(var1)\n",
    "%matplotlib inline\n",
    "plt.plot(var1)\n",
    "\n",
    "# looks like ~100 orthogonal PCA components explain > 50% of the variation"
   ]
  },
  {
   "cell_type": "code",
   "execution_count": 18,
   "metadata": {
    "collapsed": true
   },
   "outputs": [],
   "source": [
    "# For a custom f-score metric\n",
    "import keras.backend as K\n",
    "\n",
    "def mean_pred(y_true, y_pred):\n",
    "    return K.mean(y_pred)\n",
    "\n",
    "def recall(y_true, y_pred):\n",
    "    # return keras tensor for recall\n",
    "    true_positives = K.sum(K.round(K.clip(y_true * y_pred, 0, 1)))\n",
    "    possible_positives = K.sum(K.round(K.clip(y_true, 0, 1)))\n",
    "    recall = true_positives / (possible_positives + K.epsilon())\n",
    "    return recall\n",
    "\n",
    "def precision(y_true, y_pred):\n",
    "    # return keras tensor for precision\n",
    "    true_positives = K.sum(K.round(K.clip(y_true * y_pred, 0, 1)))\n",
    "    predicted_positives = K.sum(K.round(K.clip(y_pred, 0, 1)))\n",
    "    precision = true_positives / (predicted_positives + K.epsilon())\n",
    "    return precision\n",
    "\n",
    "def fbeta_score(y_true, y_pred, beta=1):\n",
    "    if beta < 0:\n",
    "        raise ValueError('The lowest choosable beta is zero (only precision).')\n",
    "\n",
    "    # If there are no true positives, fix the F score at 0 like sklearn.\n",
    "    if K.sum(K.round(K.clip(y_true, 0, 1))) == 0:\n",
    "        return 0\n",
    "\n",
    "    p = precision(y_true, y_pred)\n",
    "    r = recall(y_true, y_pred)\n",
    "    bb = beta ** 2\n",
    "    fbeta_score = (1 + bb) * (p * r) / (bb * p + r + K.epsilon())\n",
    "    return fbeta_score\n",
    "\n",
    "def f_score(y_true, y_pred):\n",
    "    beta = 2 # penalize false positives\n",
    "    return fbeta_score(y_true, y_pred, beta=2)\n",
    "    #my_precision = precision(y_true, y_pred)\n",
    "    #my_recall = recall(y_true, y_pred)\n",
    "    \n",
    "    #f_score = (1 +( beta **2)) * my_precision * my_recall / ((beta ** 2) * my_precision + my_recall)\n",
    "\n",
    "#def my_score(estimator, X, y):\n",
    "#    predict y_pred using X\n",
    "##    error_score = false_pos * 2 + false_neg \n",
    "#    if error_score > len(X) return 0\n",
    "#    else return 1 - error_score/len(X)\n",
    "\n",
    "\n",
    "# function to generate model\n",
    "def create_model(hidden_layer_size=30, dropout=(2.0/3.0), reg_penalty=0.0001):\n",
    "    # create model\n",
    "    model = Sequential()\n",
    "    model.add(Dense(hidden_layer_size, \n",
    "                    input_dim=num_features, \n",
    "                    kernel_initializer='normal', \n",
    "                    activation='relu',\n",
    "                    kernel_regularizer=regularizers.l2(reg_penalty)\n",
    "                   ))\n",
    "    model.add(Dropout(dropout))\n",
    "    model.add(Dense(1, kernel_initializer='normal', activation='sigmoid'))\n",
    "    # Compile model\n",
    "    model.compile(loss='binary_crossentropy', optimizer='adam', metrics=['accuracy', f_score])\n",
    "    return model\n",
    "\n",
    "def selectThreshold (logits, labels, beta=1):\n",
    "    # return threshold, f-score that yields best F-score\n",
    "    # predict using true if >= threshold\n",
    "\n",
    "    precision, recall, thresholds = sklearn.metrics.precision_recall_curve(labels, logits)\n",
    "    f1_scores = (1 +( beta **2)) * precision * recall / ((beta ** 2) * precision + recall)\n",
    "    best_index = np.argmax(f1_scores)\n",
    "    best_threshold = thresholds[best_index]\n",
    "    best_score = f1_scores[best_index]\n",
    "    return (best_threshold, best_score)\n",
    "\n"
   ]
  },
  {
   "cell_type": "code",
   "execution_count": null,
   "metadata": {
    "collapsed": true
   },
   "outputs": [],
   "source": [
    "print('%s Starting' % time.strftime(\"%H:%M:%S\"))\n",
    "\n",
    "# minimize a raw score\n",
    "# show correct metric\n",
    "# pick threshold using correct metric\n",
    "\n",
    "estimator = KerasClassifier(build_fn=create_model, epochs=100, batch_size=100, verbose=0)\n",
    "kfold = StratifiedKFold(n_splits=5, shuffle=True, random_state=seed)\n",
    "\n",
    "hidden_layer_hp = [30]\n",
    "dropout_hp = [0.333]\n",
    "reg_penalty_hp = [0.0001, 0.00001, 0.001]\n",
    "class_weight1= {0: 1.0, 1: 1.0}\n",
    "class_weight2= {0: 1.0, 1: 2.0}\n",
    "class_weight3 = class_weight.compute_class_weight('balanced', np.unique(y_train), y_train)\n",
    "class_weight_hp = [class_weight2, class_weight3]\n",
    "\n",
    "param_grid = dict(hidden_layer_size=hidden_layer_hp, \n",
    "                  dropout=dropout_hp, \n",
    "                  reg_penalty=reg_penalty_hp,\n",
    "                  class_weight=class_weight_hp)\n",
    "\n",
    "#grid = GridSearchCV(estimator=estimator, param_grid=param_grid, cv=kfold, n_jobs=-1)\n",
    "#classifier = grid.fit(X_train, y_train)\n",
    "\n",
    "#GridSearchCV is annoying to use with custom metric to choose best, sted accuracy\n",
    "#would like to do k-fold CV and average raw error but not clear how to do that\n",
    "#also would like output after each iteration\n",
    "\n",
    "for hl in hidden_layer_hp:\n",
    "    for dr in dropout_hp:\n",
    "        for rp in reg_penalty_hp:\n",
    "            count=1\n",
    "            for cw in class_weight_hp:\n",
    "                count+=1\n",
    "                print(\"\\n%s Hidden layer: %d, Dropout: %.4f, Regularization %.8f, class weight: %d\" % \n",
    "                      (time.strftime(\"%H:%M:%S\"), hl, dr, rp, count))               \n",
    "                classifier = KerasClassifier(build_fn=create_model, epochs=100, batch_size=100, verbose=0,\n",
    "#                                        cv=kfold,\n",
    "                                        hidden_layer_size=hl, \n",
    "                                        dropout=dr, \n",
    "                                        reg_penalty=rp,\n",
    "                                        class_weight=cw\n",
    "                                       )\n",
    "                classifier.fit(X_train, y_train)\n",
    "                                \n",
    "                y_xval_proba = classifier.predict_proba(X_xval)[:,1]\n",
    "                thresh, score = selectThreshold(y_xval_proba, y_xval, beta=(2.0/3))\n",
    "                y_xval_pred = y_xval_proba >= thresh\n",
    "                \n",
    "                confusion_matrix = sklearn.metrics.confusion_matrix(y_xval_pred, y_xval)\n",
    "                print(confusion_matrix)\n",
    "                true_negatives = confusion_matrix[0][0]\n",
    "                false_negatives = confusion_matrix[0][1]\n",
    "                false_positives = confusion_matrix[1][0]\n",
    "                true_positives = confusion_matrix[1][1]\n",
    "                total_observations = len(y_xval_pred)\n",
    "                \n",
    "                print(\"Xval f-score %.3f\" % score)\n",
    "                print(\"Xval F1 %.3f\" % sklearn.metrics.f1_score(y_xval_pred, y_xval))\n",
    "                print(\"Raw error score ----------> %.4f\" % ((false_positives*2 + false_negatives) / float(total_observations)))                \n",
    "\n",
    "print('%s Finishing' % time.strftime(\"%H:%M:%S\"))\n",
    "\n",
    "# summarize results\n",
    "# print(\"Best: %f using %s\" % (classifier.best_score_, classifier.best_params_))\n",
    "# means = classifier.cv_results_['mean_test_score']\n",
    "# stds = classifier.cv_results_['std_test_score']\n",
    "# params = classifier.cv_results_['params']\n",
    "# for mean, stdev, param in zip(means, stds, params):\n",
    "#     print(\"%f (%f) with: %r\" % (mean, stdev, param))\n",
    "    \n",
    "#kfold = StratifiedKFold(n_splits=5, shuffle=True, random_state=seed)\n",
    "#results = cross_val_score(estimator, X_train, y_train, cv=kfold)\n",
    "#print(\"\\nResults: %.2f%% (%.2f%%)\" % (results.mean()*100, results.std()*100))\n"
   ]
  },
  {
   "cell_type": "code",
   "execution_count": 23,
   "metadata": {},
   "outputs": [
    {
     "name": "stdout",
     "output_type": "stream",
     "text": [
      "[[122994   1386]\n",
      " [   485   1955]]\n",
      "Xval f-score 0.719\n",
      "Xval F1 0.676\n",
      "Raw error score ----------> 0.0186\n",
      "[[123012   1340]\n",
      " [   473   1995]]\n",
      "Test f-score 0.719\n",
      "Test F1 0.688\n",
      "Raw error score ----------> 0.0180\n"
     ]
    }
   ],
   "source": [
    "# select preferred parameters using raw error and f-score\n",
    "\n",
    "hl = 30\n",
    "dr = 0.333\n",
    "rp = 0.00010000\n",
    "cw = {0: 1.0, 1: 2.0}\n",
    "\n",
    "classifier = KerasClassifier(build_fn=create_model, epochs=500, batch_size=500, verbose=0,\n",
    "                             hidden_layer_size=hl, \n",
    "                             dropout=dr, \n",
    "                             reg_penalty=rp,\n",
    "                             class_weight=cw\n",
    "                             )\n",
    "classifier.fit(X_train, y_train)\n",
    "\n",
    "y_xval_proba = classifier.predict_proba(X_xval)[:,1]\n",
    "thresh, score = selectThreshold(y_xval_proba, y_xval, beta=(2.0/3))\n",
    "y_xval_pred = y_xval_proba >= thresh\n",
    "\n",
    "confusion_matrix = sklearn.metrics.confusion_matrix(y_xval_pred, y_xval)\n",
    "print(confusion_matrix)\n",
    "true_negatives = confusion_matrix[0][0]\n",
    "false_negatives = confusion_matrix[0][1]\n",
    "false_positives = confusion_matrix[1][0]\n",
    "true_positives = confusion_matrix[1][1]\n",
    "total_observations = len(y_xval_pred)\n",
    "                \n",
    "print(\"Xval f-score %.3f\" % score)\n",
    "print(\"Xval F1 %.3f\" % sklearn.metrics.f1_score(y_xval_pred, y_xval))\n",
    "print(\"Raw error score ----------> %.4f\" % ((false_positives*2 + false_negatives) / float(total_observations)))                \n",
    "\n",
    "y_test_proba = classifier.predict_proba(X_test)[:,1]\n",
    "y_test_pred = y_test_proba >= thresh\n",
    "\n",
    "confusion_matrix = sklearn.metrics.confusion_matrix(y_test_pred, y_test)\n",
    "print(confusion_matrix)\n",
    "true_negatives = confusion_matrix[0][0]\n",
    "false_negatives = confusion_matrix[0][1]\n",
    "false_positives = confusion_matrix[1][0]\n",
    "true_positives = confusion_matrix[1][1]\n",
    "total_observations = len(y_test_pred)\n",
    "\n",
    "print(\"Test f-score %.3f\" % score)\n",
    "print(\"Test F1 %.3f\" % sklearn.metrics.f1_score(y_test_pred, y_test))\n",
    "print(\"Raw error score ----------> %.4f\" % ((false_positives*2 + false_negatives) / float(total_observations)))                "
   ]
  },
  {
   "cell_type": "code",
   "execution_count": null,
   "metadata": {
    "collapsed": true
   },
   "outputs": [],
   "source": []
  }
 ],
 "metadata": {
  "kernelspec": {
   "display_name": "TensorFlow",
   "language": "python",
   "name": "tensorflow"
  },
  "language_info": {
   "codemirror_mode": {
    "name": "ipython",
    "version": 2
   },
   "file_extension": ".py",
   "mimetype": "text/x-python",
   "name": "python",
   "nbconvert_exporter": "python",
   "pygments_lexer": "ipython2",
   "version": "2.7.13"
  }
 },
 "nbformat": 4,
 "nbformat_minor": 2
}
